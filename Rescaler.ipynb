{
  "nbformat": 4,
  "nbformat_minor": 0,
  "metadata": {
    "colab": {
      "provenance": []
    },
    "kernelspec": {
      "name": "python3",
      "display_name": "Python 3"
    },
    "language_info": {
      "name": "python"
    }
  },
  "cells": [
    {
      "cell_type": "markdown",
      "source": [
        "Ce notebook permet de récuperer un dataset stocké sur Google Drive, séparer les morceaux en Mineur de ceux en Majeur et les rescale en Do.\n",
        "Deux fichiers en sorties : parts_major.zip, parts_minor.zip"
      ],
      "metadata": {
        "id": "XWiBvOs4hEpp"
      }
    },
    {
      "cell_type": "code",
      "source": [
        "! pip install muspy"
      ],
      "metadata": {
        "id": "WABWPsa0g5kt"
      },
      "execution_count": null,
      "outputs": []
    },
    {
      "cell_type": "code",
      "source": [
        "import muspy as mp\n",
        "import music21\n",
        "import os\n",
        "\n",
        "import random\n",
        "import numpy\n",
        "import torch\n",
        "import torch.nn as nn\n",
        "import torch.nn.functional as F\n",
        "from pathlib import Path\n",
        "import shutil\n",
        "import pretty_midi\n",
        "import glob\n",
        "from progressbar import ProgressBar\n",
        "from google.colab import files"
      ],
      "metadata": {
        "id": "2w7XaVokg4Cn"
      },
      "execution_count": null,
      "outputs": []
    },
    {
      "cell_type": "markdown",
      "source": [
        "## A modifier pour changer le dataset à importer"
      ],
      "metadata": {
        "id": "-_XkrtFMg_vC"
      }
    },
    {
      "cell_type": "code",
      "source": [
        "# get dataset from drive\n",
        "\n",
        "! unzip \"/content/drive/MyDrive/adl-piano-midi.zip\" -d \"data\"\n",
        "\n",
        "source_dir = '/content/data/adl-piano-midi/Jazz/'\n",
        "target_dir = '/content/data/jazz_midi'"
      ],
      "metadata": {
        "id": "7tLp7FLrg_ca"
      },
      "execution_count": null,
      "outputs": []
    },
    {
      "cell_type": "code",
      "source": [
        "# list to store .mid files\n",
        "midi_files = []\n",
        "# os.walk() returns subdirectories, file from current directory and \n",
        "# And follow next directory from subdirectory list recursively until last directory\n",
        "for root, dirs, files in os.walk(r\"\"+source_dir):\n",
        "    for file in files:\n",
        "        if file.endswith(\".mid\"):\n",
        "            midi_files.append(os.path.join(root, file))\n",
        "print(\"midi_files:\",midi_files)\n",
        "\n",
        "# check if exist or create target \n",
        "if not Path.exists(Path(target_dir)):\n",
        "  os.mkdir(target_dir)\n",
        "\n",
        "for file in midi_files:\n",
        "  if not (Path('/content/data/jazz_midi/' + Path(file).name)).exists():\n",
        "    shutil.move(file, '/content/data/jazz_midi')\n",
        "\n",
        "_, _, files = next(os.walk(r\"\"+target_dir))\n",
        "file_count = len(files)\n",
        "print(\"{}: {} files\".format(target_dir, file_count))"
      ],
      "metadata": {
        "id": "Y8HYqNubg2Yy"
      },
      "execution_count": null,
      "outputs": []
    },
    {
      "cell_type": "code",
      "execution_count": null,
      "metadata": {
        "id": "tZUQczQqgw_3"
      },
      "outputs": [],
      "source": [
        "# Chemin d'accès au dossier d'entrée contenant les fichiers MIDI\n",
        "input_folder = \"/content/data/jazz_midi/\"\n",
        "\n",
        "# Liste des fichiers transposés\n",
        "!rm -rf \"/content/major_parts/\"\n",
        "!mkdir \"/content/major_parts/\"\n",
        "!rm -rf \"/content/minor_parts/\"\n",
        "!mkdir \"/content/minor_parts/\"\n",
        "output_folder_major = \"/content/major_parts/\"\n",
        "output_folder_minor = \"/content/minor_parts/\"\n",
        "\n",
        "pbar = ProgressBar()\n",
        "\n",
        "# Boucle à travers les 20 premiers fichier MIDI dans le dossier d'entrée\n",
        "files = [f for f in os.listdir(input_folder) if f.endswith('.mid') or f.endswith('.midi')] #228 => crash\n",
        "\n",
        "del files[228] #elem at index 228 causing crashes\n",
        "\n",
        "for music_file in pbar(files):\n",
        "    # Charger le fichier MIDI\n",
        "    midi_file = music21.converter.parse(os.path.join(input_folder, music_file))\n",
        "\n",
        "    # Vérifier si la musique est en majeur\n",
        "    if midi_file.analyze('key').mode == 'major':\n",
        "        # Déterminer la différence entre la tonalité actuelle et Do majeur\n",
        "        intervalC_maj = music21.interval.Interval(midi_file.analyze('key').tonic, music21.pitch.Pitch('C'))\n",
        "        # Transposer la musique dans la gamme de Do majeur\n",
        "        transposed_midi_file = midi_file.transpose(intervalC_maj)\n",
        "\n",
        "        new_file = os.path.join(output_folder_major, music_file[:-4] + '_transpose.mid') # ajouter '_transpose' au nom du fichier\n",
        "        transposed_midi_file.write('midi', new_file)\n",
        "    # Ou en mineur\n",
        "    else:\n",
        "        # Déterminer la différence entre la tonalité actuelle et Do mineur\n",
        "        intervalC_min = music21.interval.Interval(midi_file.analyze('key').tonic, music21.pitch.Pitch('C'))\n",
        "        # Transposer la musique dans la gamme de Do majeur\n",
        "        transposed_midi_file = midi_file.transpose(intervalC_min)\n",
        "\n",
        "        new_file = os.path.join(output_folder_minor, music_file[:-4] + '_transpose.mid') # ajouter '_transpose' au nom du fichier\n",
        "        transposed_midi_file.write('midi', new_file)"
      ]
    },
    {
      "cell_type": "code",
      "source": [
        "!zip -r /content/major_parts.zip /content/major_parts\n",
        "!zip -r /content/minor_parts.zip /content/minor_parts"
      ],
      "metadata": {
        "id": "nM0fgpTphYS6"
      },
      "execution_count": null,
      "outputs": []
    },
    {
      "cell_type": "code",
      "source": [
        "files.download('/content/major_parts.zip')\n",
        "files.download('/content/minor_parts.zip')"
      ],
      "metadata": {
        "id": "qDcXBKFChhBe"
      },
      "execution_count": null,
      "outputs": []
    }
  ]
}