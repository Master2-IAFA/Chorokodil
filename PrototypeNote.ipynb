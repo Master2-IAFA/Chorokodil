{
  "nbformat": 4,
  "nbformat_minor": 0,
  "metadata": {
    "colab": {
      "provenance": []
    },
    "kernelspec": {
      "name": "python3",
      "display_name": "Python 3"
    },
    "language_info": {
      "name": "python"
    }
  },
  "cells": [
    {
      "cell_type": "code",
      "execution_count": 132,
      "metadata": {
        "colab": {
          "base_uri": "https://localhost:8080/"
        },
        "id": "-vRNiLHUNqJr",
        "outputId": "9c9e6893-2900-4d91-b99e-00e36e262504"
      },
      "outputs": [
        {
          "output_type": "stream",
          "name": "stdout",
          "text": [
            "Looking in indexes: https://pypi.org/simple, https://us-python.pkg.dev/colab-wheels/public/simple/\n",
            "Requirement already satisfied: muspy in /usr/local/lib/python3.8/dist-packages (0.5.0)\n",
            "Requirement already satisfied: joblib>=0.15 in /usr/local/lib/python3.8/dist-packages (from muspy) (1.2.0)\n",
            "Requirement already satisfied: pretty-midi>=0.2 in /usr/local/lib/python3.8/dist-packages (from muspy) (0.2.9)\n",
            "Requirement already satisfied: requests>=2.0 in /usr/local/lib/python3.8/dist-packages (from muspy) (2.25.1)\n",
            "Requirement already satisfied: tqdm>=4.0 in /usr/local/lib/python3.8/dist-packages (from muspy) (4.64.1)\n",
            "Requirement already satisfied: bidict>=0.21 in /usr/local/lib/python3.8/dist-packages (from muspy) (0.22.1)\n",
            "Requirement already satisfied: miditoolkit>=0.1 in /usr/local/lib/python3.8/dist-packages (from muspy) (0.1.16)\n",
            "Requirement already satisfied: mido>=1.0 in /usr/local/lib/python3.8/dist-packages (from muspy) (1.2.10)\n",
            "Requirement already satisfied: PyYAML>=3.0 in /usr/local/lib/python3.8/dist-packages (from muspy) (6.0)\n",
            "Requirement already satisfied: pypianoroll>=1.0 in /usr/local/lib/python3.8/dist-packages (from muspy) (1.0.4)\n",
            "Requirement already satisfied: music21>=6.0 in /usr/local/lib/python3.8/dist-packages (from muspy) (8.1.0)\n",
            "Requirement already satisfied: matplotlib>=1.5 in /usr/local/lib/python3.8/dist-packages (from muspy) (3.2.2)\n",
            "Requirement already satisfied: kiwisolver>=1.0.1 in /usr/local/lib/python3.8/dist-packages (from matplotlib>=1.5->muspy) (1.4.4)\n",
            "Requirement already satisfied: numpy>=1.11 in /usr/local/lib/python3.8/dist-packages (from matplotlib>=1.5->muspy) (1.21.6)\n",
            "Requirement already satisfied: pyparsing!=2.0.4,!=2.1.2,!=2.1.6,>=2.0.1 in /usr/local/lib/python3.8/dist-packages (from matplotlib>=1.5->muspy) (3.0.9)\n",
            "Requirement already satisfied: cycler>=0.10 in /usr/local/lib/python3.8/dist-packages (from matplotlib>=1.5->muspy) (0.11.0)\n",
            "Requirement already satisfied: python-dateutil>=2.1 in /usr/local/lib/python3.8/dist-packages (from matplotlib>=1.5->muspy) (2.8.2)\n",
            "Requirement already satisfied: more-itertools in /usr/local/lib/python3.8/dist-packages (from music21>=6.0->muspy) (9.0.0)\n",
            "Requirement already satisfied: webcolors>=1.5 in /usr/local/lib/python3.8/dist-packages (from music21>=6.0->muspy) (1.12)\n",
            "Requirement already satisfied: chardet in /usr/local/lib/python3.8/dist-packages (from music21>=6.0->muspy) (4.0.0)\n",
            "Requirement already satisfied: jsonpickle in /usr/local/lib/python3.8/dist-packages (from music21>=6.0->muspy) (3.0.1)\n",
            "Requirement already satisfied: six in /usr/local/lib/python3.8/dist-packages (from pretty-midi>=0.2->muspy) (1.15.0)\n",
            "Requirement already satisfied: scipy>=1.0.0 in /usr/local/lib/python3.8/dist-packages (from pypianoroll>=1.0->muspy) (1.7.3)\n",
            "Requirement already satisfied: certifi>=2017.4.17 in /usr/local/lib/python3.8/dist-packages (from requests>=2.0->muspy) (2022.12.7)\n",
            "Requirement already satisfied: urllib3<1.27,>=1.21.1 in /usr/local/lib/python3.8/dist-packages (from requests>=2.0->muspy) (1.24.3)\n",
            "Requirement already satisfied: idna<3,>=2.5 in /usr/local/lib/python3.8/dist-packages (from requests>=2.0->muspy) (2.10)\n",
            "Looking in indexes: https://pypi.org/simple, https://us-python.pkg.dev/colab-wheels/public/simple/\n",
            "Requirement already satisfied: music21 in /usr/local/lib/python3.8/dist-packages (8.1.0)\n",
            "Requirement already satisfied: jsonpickle in /usr/local/lib/python3.8/dist-packages (from music21) (3.0.1)\n",
            "Requirement already satisfied: numpy in /usr/local/lib/python3.8/dist-packages (from music21) (1.21.6)\n",
            "Requirement already satisfied: webcolors>=1.5 in /usr/local/lib/python3.8/dist-packages (from music21) (1.12)\n",
            "Requirement already satisfied: more-itertools in /usr/local/lib/python3.8/dist-packages (from music21) (9.0.0)\n",
            "Requirement already satisfied: requests in /usr/local/lib/python3.8/dist-packages (from music21) (2.25.1)\n",
            "Requirement already satisfied: matplotlib in /usr/local/lib/python3.8/dist-packages (from music21) (3.2.2)\n",
            "Requirement already satisfied: joblib in /usr/local/lib/python3.8/dist-packages (from music21) (1.2.0)\n",
            "Requirement already satisfied: chardet in /usr/local/lib/python3.8/dist-packages (from music21) (4.0.0)\n",
            "Requirement already satisfied: kiwisolver>=1.0.1 in /usr/local/lib/python3.8/dist-packages (from matplotlib->music21) (1.4.4)\n",
            "Requirement already satisfied: pyparsing!=2.0.4,!=2.1.2,!=2.1.6,>=2.0.1 in /usr/local/lib/python3.8/dist-packages (from matplotlib->music21) (3.0.9)\n",
            "Requirement already satisfied: python-dateutil>=2.1 in /usr/local/lib/python3.8/dist-packages (from matplotlib->music21) (2.8.2)\n",
            "Requirement already satisfied: cycler>=0.10 in /usr/local/lib/python3.8/dist-packages (from matplotlib->music21) (0.11.0)\n",
            "Requirement already satisfied: idna<3,>=2.5 in /usr/local/lib/python3.8/dist-packages (from requests->music21) (2.10)\n",
            "Requirement already satisfied: certifi>=2017.4.17 in /usr/local/lib/python3.8/dist-packages (from requests->music21) (2022.12.7)\n",
            "Requirement already satisfied: urllib3<1.27,>=1.21.1 in /usr/local/lib/python3.8/dist-packages (from requests->music21) (1.24.3)\n",
            "Requirement already satisfied: six>=1.5 in /usr/local/lib/python3.8/dist-packages (from python-dateutil>=2.1->matplotlib->music21) (1.15.0)\n"
          ]
        }
      ],
      "source": [
        "! pip install muspy\n",
        "! pip install music21"
      ]
    },
    {
      "cell_type": "code",
      "source": [
        "import muspy as mp\n",
        "import music21\n",
        "import os\n",
        "\n",
        "import random\n",
        "import numpy\n",
        "import torch\n",
        "import torch.nn as nn\n",
        "import torch.nn.functional as F"
      ],
      "metadata": {
        "id": "_F05-dAVNxSM"
      },
      "execution_count": 133,
      "outputs": []
    },
    {
      "cell_type": "markdown",
      "source": [
        "## Génération matrice A et B"
      ],
      "metadata": {
        "id": "9MxS1YFUR3Xq"
      }
    },
    {
      "cell_type": "code",
      "source": [
        "def create_empty_notes_list(n : int):\n",
        "  dict_note = []\n",
        "  for i in range(0,n):\n",
        "    dict_note.append(0.0)\n",
        "  return dict_note\n",
        "\n",
        "def normalize_list(l : list):\n",
        "  total = sum(l)\n",
        "  if total > 0.0:\n",
        "    for i in range(len(l)):\n",
        "      l[i] = l[i]/total"
      ],
      "metadata": {
        "id": "c228yV32N-Cs"
      },
      "execution_count": 134,
      "outputs": []
    },
    {
      "cell_type": "code",
      "source": [
        "directory = \"parts\"\n",
        "musics = []\n",
        "\n",
        "for filename in os.listdir(directory):\n",
        "    f = os.path.join(directory, filename)\n",
        "    # checking if it is a file\n",
        "    if os.path.isfile(f):\n",
        "      music_xml = mp.from_music21(music21.converter.parse(f))\n",
        "      musics.append(music_xml)"
      ],
      "metadata": {
        "colab": {
          "base_uri": "https://localhost:8080/"
        },
        "id": "Fuhqs2K-NyVP",
        "outputId": "b2979d77-e793-4d14-8ce8-c5819886b288"
      },
      "execution_count": 135,
      "outputs": [
        {
          "output_type": "stream",
          "name": "stderr",
          "text": [
            "/usr/local/lib/python3.8/dist-packages/music21/midi/translate.py:863: TranslateWarning: Unable to determine instrument from <music21.midi.MidiEvent SEQUENCE_TRACK_NAME, track=1, channel=None, data=b'Viol\\xe3o'>; getting generic Instrument\n",
            "  warnings.warn(\n",
            "/usr/local/lib/python3.8/dist-packages/music21/midi/translate.py:863: TranslateWarning: Unable to determine instrument from <music21.midi.MidiEvent SEQUENCE_TRACK_NAME, track=1, channel=None, data=b'1\\xba Viol\\xe3o'>; getting generic Instrument\n",
            "  warnings.warn(\n"
          ]
        }
      ]
    },
    {
      "cell_type": "code",
      "source": [
        "list_notes = []\n",
        "list_notes_dur = []\n",
        "\n",
        "for i in range(0,128): #on crée une liste pour chaque note qui servira à mettre la fréquence de ses notes voisines\n",
        "  prob_allowed_notes = create_empty_notes_list(128)\n",
        "  list_notes.append(prob_allowed_notes)\n",
        "\n",
        "  prob_duration_notes = create_empty_notes_list(60)\n",
        "  list_notes_dur.append(prob_duration_notes)"
      ],
      "metadata": {
        "id": "nM48VYv5N9At"
      },
      "execution_count": 136,
      "outputs": []
    },
    {
      "cell_type": "code",
      "source": [
        "for music in musics:\n",
        "  notes = music_xml.tracks[0].notes\n",
        "  for i in range(0, len(notes)-1):\n",
        "    list_to_update = list_notes[notes[i].pitch] #on récupère la liste des notes possibles de la note courante\n",
        "    if notes[i].time != notes[i+1].time:\n",
        "      list_to_update[notes[i+1].pitch] += 1\n",
        "\n",
        "    list_to_update_dur = list_notes_dur[notes[i].pitch] #on récupère la liste des vélocités de la note courante\n",
        "    list_to_update_dur[notes[i].duration] += 1\n",
        "\n",
        "  list_to_update_dur = list_notes_dur[notes[len(notes)-1].pitch] \n",
        "  list_to_update_dur[notes[len(notes)-1].duration] += 1"
      ],
      "metadata": {
        "id": "1Ffow4BkODUx"
      },
      "execution_count": 137,
      "outputs": []
    },
    {
      "cell_type": "code",
      "source": [
        "for i in range(len(list_notes)):\n",
        "  normalize_list(list_notes[i])\n",
        "  normalize_list(list_notes_dur[i])"
      ],
      "metadata": {
        "id": "w8C2dGp-OG8w"
      },
      "execution_count": 138,
      "outputs": []
    },
    {
      "cell_type": "markdown",
      "source": [
        "## Génération d'une séquence de notes par HMM\n"
      ],
      "metadata": {
        "id": "4dCSrZ_zR58K"
      }
    },
    {
      "cell_type": "code",
      "source": [
        "A = torch.tensor(list_notes)\n",
        "A"
      ],
      "metadata": {
        "colab": {
          "base_uri": "https://localhost:8080/"
        },
        "id": "CZezEVPyRHby",
        "outputId": "8bdcef3e-1044-400a-c254-898e1263054a"
      },
      "execution_count": 139,
      "outputs": [
        {
          "output_type": "execute_result",
          "data": {
            "text/plain": [
              "tensor([[0., 0., 0.,  ..., 0., 0., 0.],\n",
              "        [0., 0., 0.,  ..., 0., 0., 0.],\n",
              "        [0., 0., 0.,  ..., 0., 0., 0.],\n",
              "        ...,\n",
              "        [0., 0., 0.,  ..., 0., 0., 0.],\n",
              "        [0., 0., 0.,  ..., 0., 0., 0.],\n",
              "        [0., 0., 0.,  ..., 0., 0., 0.]])"
            ]
          },
          "metadata": {},
          "execution_count": 139
        }
      ]
    },
    {
      "cell_type": "code",
      "source": [
        "B =torch.tensor(numpy.transpose(list_notes_dur))\n",
        "B"
      ],
      "metadata": {
        "colab": {
          "base_uri": "https://localhost:8080/"
        },
        "id": "lcuR0fQaV7Im",
        "outputId": "359260e3-d3bf-428f-8ca5-8971540e2f78"
      },
      "execution_count": 140,
      "outputs": [
        {
          "output_type": "execute_result",
          "data": {
            "text/plain": [
              "tensor([[0., 0., 0.,  ..., 0., 0., 0.],\n",
              "        [0., 0., 0.,  ..., 0., 0., 0.],\n",
              "        [0., 0., 0.,  ..., 0., 0., 0.],\n",
              "        ...,\n",
              "        [0., 0., 0.,  ..., 0., 0., 0.],\n",
              "        [0., 0., 0.,  ..., 0., 0., 0.],\n",
              "        [0., 0., 0.,  ..., 0., 0., 0.]], dtype=torch.float64)"
            ]
          },
          "metadata": {},
          "execution_count": 140
        }
      ]
    },
    {
      "cell_type": "code",
      "source": [
        "L, V = torch.linalg.eig(A)\n",
        "pi0 = V[:,0]\n",
        "pi0 = pi0/torch.sum(pi0)\n",
        "pi0 = torch.real(pi0)"
      ],
      "metadata": {
        "id": "BDA9DCUySAYJ"
      },
      "execution_count": 141,
      "outputs": []
    },
    {
      "cell_type": "code",
      "source": [
        "N=600 # taille de la séquence que l'on veut\n",
        "seq = [] #séquence de durées des notes\n",
        "# initialisation\n",
        "current_state = torch.multinomial(A.diagonal(),1).item()\n",
        "obs = torch.multinomial(B[:,current_state],1).item()\n",
        "seq.append(obs)\n",
        "\n",
        "seq_states = [] #séquence des notes (pitch)\n",
        "seq_states.append(current_state)\n",
        "\n",
        "for i in range(N):\n",
        "  # transition\n",
        "  current_state = torch.multinomial(A[:,current_state],1).item()\n",
        "  seq_states.append(current_state)\n",
        "  \n",
        "  #emission\n",
        "  obs = torch.multinomial(B[:,current_state],1).item()\n",
        "  seq.append(obs)\n",
        "\n",
        "# optionnel\n",
        "print(seq_states)\n",
        "print(seq)"
      ],
      "metadata": {
        "colab": {
          "base_uri": "https://localhost:8080/"
        },
        "id": "MP2zQoNNSTUn",
        "outputId": "cfae554c-c2b1-4d05-83c1-c7863b444f00"
      },
      "execution_count": 183,
      "outputs": [
        {
          "output_type": "stream",
          "name": "stdout",
          "text": [
            "[76, 81, 72, 71, 66, 63, 71, 69, 74, 75, 72, 67, 69, 66, 62, 61, 62, 61, 62, 71, 76, 81, 72, 69, 74, 70, 62, 61, 62, 61, 62, 61, 62, 61, 62, 61, 62, 61, 62, 66, 63, 71, 69, 66, 63, 71, 68, 75, 72, 71, 68, 75, 70, 62, 61, 62, 61, 62, 61, 62, 61, 62, 66, 63, 71, 68, 71, 72, 64, 65, 74, 76, 74, 69, 66, 63, 71, 78, 73, 77, 79, 78, 73, 68, 75, 70, 65, 64, 79, 76, 73, 70, 62, 61, 62, 70, 65, 66, 62, 61, 62, 61, 62, 74, 70, 62, 61, 62, 61, 62, 61, 62, 70, 67, 64, 79, 78, 73, 77, 82, 77, 79, 78, 73, 70, 67, 64, 60, 64, 60, 64, 65, 62, 61, 62, 61, 62, 61, 62, 61, 62, 74, 77, 82, 77, 82, 77, 72, 69, 66, 63, 71, 68, 64, 67, 64, 60, 64, 60, 64, 60, 64, 60, 64, 65, 64, 60, 64, 65, 68, 72, 71, 66, 63, 71, 72, 69, 70, 67, 71, 66, 63, 71, 68, 75, 72, 69, 71, 68, 69, 70, 69, 66, 63, 71, 78, 73, 70, 65, 62, 61, 62, 61, 62, 66, 63, 71, 68, 71, 68, 75, 72, 69, 71, 68, 65, 62, 61, 62, 66, 63, 71, 70, 65, 64, 65, 68, 62, 61, 62, 61, 62, 61, 62, 61, 62, 61, 62, 61, 62, 70, 72, 69, 66, 63, 71, 78, 77, 79, 77, 82, 77, 79, 74, 70, 72, 67, 64, 60, 64, 65, 64, 65, 77, 82, 77, 79, 76, 77, 82, 77, 79, 67, 64, 65, 64, 65, 69, 71, 66, 63, 71, 66, 63, 71, 74, 70, 65, 62, 66, 72, 77, 82, 77, 82, 77, 82, 77, 82, 77, 82, 77, 79, 81, 72, 77, 82, 77, 72, 69, 66, 63, 71, 66, 63, 71, 78, 77, 72, 69, 71, 69, 71, 68, 62, 61, 62, 61, 62, 66, 73, 77, 82, 77, 82, 77, 82, 77, 82, 77, 82, 77, 72, 67, 71, 68, 69, 64, 60, 64, 65, 68, 65, 68, 75, 70, 69, 71, 69, 74, 72, 74, 76, 73, 70, 62, 61, 62, 61, 62, 61, 62, 61, 62, 70, 65, 62, 61, 62, 61, 62, 74, 76, 81, 71, 68, 72, 71, 78, 73, 68, 62, 61, 62, 61, 62, 74, 75, 70, 72, 67, 64, 79, 76, 81, 72, 69, 66, 62, 70, 65, 68, 75, 72, 69, 74, 75, 72, 69, 66, 63, 71, 66, 62, 61, 62, 70, 65, 62, 70, 67, 64, 60, 64, 65, 74, 70, 62, 61, 62, 61, 62, 61, 62, 66, 63, 71, 72, 67, 64, 79, 77, 82, 77, 79, 78, 73, 77, 82, 77, 82, 77, 79, 81, 71, 78, 73, 68, 65, 62, 61, 62, 61, 62, 61, 62, 61, 62, 61, 62, 61, 62, 74, 77, 79, 67, 64, 68, 65, 62, 61, 62, 61, 62, 61, 62, 61, 62, 61, 62, 61, 62, 61, 62, 61, 62, 66, 63, 71, 74, 75, 72, 67, 71, 72, 79, 67, 64, 60, 64, 60, 64, 79, 77, 79, 78, 77, 82, 77, 82, 77, 79, 78, 73, 70, 67, 64, 60, 64, 68, 75, 70, 77, 82, 77, 74, 74, 70, 67, 69, 66, 63, 71, 78, 73, 70, 72, 69, 64, 65, 68, 72, 67, 71, 70, 62, 61, 62, 66, 62, 74, 76, 73, 70, 74, 71, 69, 66, 72, 67, 71, 72, 77, 79, 74, 75, 70, 67, 69, 71, 68, 69, 66, 63, 71, 72, 71, 78, 73, 68, 75]\n",
            "[24, 12, 6, 6, 6, 6, 6, 6, 6, 6, 6, 6, 6, 6, 6, 6, 6, 6, 6, 6, 6, 6, 6, 6, 6, 6, 6, 6, 6, 6, 6, 6, 6, 6, 6, 6, 6, 6, 6, 6, 6, 6, 6, 6, 6, 6, 6, 6, 6, 6, 30, 6, 6, 6, 6, 6, 6, 6, 6, 6, 6, 6, 6, 6, 6, 6, 6, 6, 6, 6, 6, 6, 6, 6, 6, 6, 6, 12, 6, 12, 6, 12, 6, 6, 6, 6, 6, 6, 6, 6, 6, 6, 6, 6, 6, 6, 6, 6, 6, 6, 6, 6, 6, 6, 6, 6, 6, 6, 6, 6, 6, 6, 12, 6, 6, 6, 12, 6, 6, 6, 6, 6, 12, 6, 6, 6, 12, 6, 6, 6, 12, 6, 6, 6, 6, 6, 6, 6, 6, 6, 6, 12, 6, 6, 6, 6, 6, 6, 12, 6, 6, 6, 18, 6, 12, 6, 6, 6, 6, 6, 6, 6, 6, 6, 12, 6, 6, 6, 6, 6, 6, 6, 6, 6, 6, 6, 12, 6, 6, 6, 6, 6, 6, 30, 6, 24, 6, 6, 6, 12, 6, 6, 6, 6, 6, 6, 6, 6, 12, 6, 6, 6, 6, 6, 6, 6, 6, 6, 6, 6, 6, 6, 6, 6, 6, 6, 6, 6, 6, 6, 6, 6, 12, 6, 6, 6, 12, 6, 6, 6, 6, 6, 6, 6, 6, 6, 6, 6, 6, 6, 6, 6, 6, 6, 6, 6, 12, 12, 12, 12, 6, 6, 6, 30, 6, 6, 12, 6, 6, 12, 6, 6, 6, 6, 6, 6, 6, 6, 6, 6, 6, 6, 12, 6, 6, 6, 6, 6, 6, 6, 6, 6, 6, 6, 6, 30, 6, 6, 6, 6, 6, 6, 6, 6, 6, 6, 6, 6, 6, 6, 6, 12, 6, 6, 6, 6, 6, 6, 6, 6, 6, 6, 6, 6, 6, 6, 6, 12, 18, 6, 6, 6, 6, 6, 6, 6, 6, 6, 6, 6, 6, 6, 6, 6, 6, 12, 6, 6, 6, 6, 6, 6, 6, 6, 6, 18, 12, 6, 6, 6, 6, 6, 6, 6, 6, 6, 12, 6, 6, 12, 12, 24, 6, 6, 6, 6, 6, 6, 6, 6, 6, 6, 6, 6, 6, 6, 6, 6, 6, 6, 6, 6, 6, 12, 6, 6, 6, 6, 6, 6, 6, 6, 6, 6, 6, 6, 6, 6, 6, 12, 6, 6, 6, 6, 6, 6, 6, 6, 6, 6, 12, 6, 6, 6, 6, 6, 6, 6, 6, 6, 6, 6, 6, 6, 6, 6, 6, 6, 6, 6, 6, 6, 6, 6, 6, 6, 12, 6, 6, 6, 6, 6, 6, 6, 6, 6, 6, 6, 6, 6, 6, 6, 6, 6, 6, 6, 6, 6, 6, 6, 6, 6, 6, 12, 6, 6, 6, 6, 6, 6, 6, 6, 6, 6, 6, 6, 6, 6, 6, 6, 6, 6, 6, 12, 6, 6, 6, 6, 6, 6, 6, 6, 6, 6, 6, 6, 6, 6, 6, 6, 6, 6, 6, 6, 6, 6, 6, 6, 6, 6, 6, 6, 12, 6, 6, 6, 12, 6, 6, 6, 6, 6, 6, 12, 6, 12, 6, 6, 6, 6, 6, 6, 6, 6, 6, 6, 12, 6, 6, 6, 6, 6, 6, 6, 12, 6, 6, 12, 12, 6, 6, 6, 6, 6, 6, 6, 6, 6, 6, 6, 30, 6, 6, 6, 6, 6, 6, 6, 6, 6, 6, 6, 6, 6, 6, 6, 6, 6, 6, 12, 6, 6, 6, 6, 6, 6, 6, 6, 12, 6, 6, 12, 6, 6, 6, 6, 6, 6, 6, 6, 6]\n"
          ]
        }
      ]
    },
    {
      "cell_type": "markdown",
      "source": [
        "## Génération de la partition"
      ],
      "metadata": {
        "id": "PY6aXZX6Xx4T"
      }
    },
    {
      "cell_type": "code",
      "source": [
        "part = []\n",
        "time = 0\n",
        "\n",
        "for i in range(len(seq_states)):\n",
        "  note = [time, seq_states[i], seq[i] + random.randint(0,10), 50 + random.randint(-10,10)]\n",
        "  time += seq[i] + random.randint(0,10)\n",
        "  part.append(note)\n",
        "\n",
        "partition = numpy.array(part)\n",
        "partition"
      ],
      "metadata": {
        "colab": {
          "base_uri": "https://localhost:8080/"
        },
        "id": "JFrYBa-pXzrq",
        "outputId": "32c7d607-9916-4505-8a6b-f1bb01e1c97c"
      },
      "execution_count": 184,
      "outputs": [
        {
          "output_type": "execute_result",
          "data": {
            "text/plain": [
              "array([[   0,   76,   30,   53],\n",
              "       [  26,   81,   15,   58],\n",
              "       [  39,   72,    9,   57],\n",
              "       ...,\n",
              "       [7152,   73,    7,   54],\n",
              "       [7162,   68,   16,   41],\n",
              "       [7170,   75,   14,   48]])"
            ]
          },
          "metadata": {},
          "execution_count": 184
        }
      ]
    },
    {
      "cell_type": "code",
      "source": [
        "music_hmm = mp.to_music21(mp.from_note_representation(partition))"
      ],
      "metadata": {
        "id": "8eHM5qH9YboO"
      },
      "execution_count": 185,
      "outputs": []
    },
    {
      "cell_type": "code",
      "source": [
        "music_hmm.show('midi')"
      ],
      "metadata": {
        "colab": {
          "base_uri": "https://localhost:8080/",
          "height": 134
        },
        "id": "CQaZgQsCZxa2",
        "outputId": "ca67e2ea-eed2-40ce-8612-0203a0b68611"
      },
      "execution_count": 186,
      "outputs": [
        {
          "output_type": "display_data",
          "data": {
            "text/plain": [
              "<IPython.core.display.HTML object>"
            ],
            "text/html": [
              "\n",
              "                <div id=\"midiPlayerDiv675720\"></div>\n",
              "                <link rel=\"stylesheet\" href=\"//cuthbertLab.github.io/music21j/css/m21.css\"\n",
              "                    type=\"text/css\" />\n",
              "                \n",
              "                    <script src=\"//cuthbertLab.github.io/music21j/ext/require/require.js\"\n",
              "                    ></script>\n",
              "                \n",
              "                <script>\n",
              "                require.config({\n",
              "                    paths: {'music21': '//cuthbertLab.github.io/music21j/src/music21'}\n",
              "                });\n",
              "                require(['music21'], function() {\n",
              "                               mp = new music21.miditools.MidiPlayer();\n",
              "                               mp.addPlayer(\"#midiPlayerDiv675720\");\n",
              "                               mp.base64Load(\"data:audio/midi;base64,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\");\n",
              "                        });\n",
              "                </script>"
            ]
          },
          "metadata": {}
        }
      ]
    },
    {
      "cell_type": "code",
      "source": [
        "music_hmm.write(\"midi\", fp=\"./content.midi\")"
      ],
      "metadata": {
        "colab": {
          "base_uri": "https://localhost:8080/",
          "height": 36
        },
        "id": "vBGKJKutb3vJ",
        "outputId": "83823bb4-b52b-481f-81a8-5bf28b037e50"
      },
      "execution_count": 190,
      "outputs": [
        {
          "output_type": "execute_result",
          "data": {
            "text/plain": [
              "'./content.midi'"
            ],
            "application/vnd.google.colaboratory.intrinsic+json": {
              "type": "string"
            }
          },
          "metadata": {},
          "execution_count": 190
        }
      ]
    }
  ]
}