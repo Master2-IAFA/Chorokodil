{
  "nbformat": 4,
  "nbformat_minor": 0,
  "metadata": {
    "colab": {
      "provenance": []
    },
    "kernelspec": {
      "name": "python3",
      "display_name": "Python 3"
    },
    "language_info": {
      "name": "python"
    }
  },
  "cells": [
    {
      "cell_type": "code",
      "source": [
        "! pip install essentia"
      ],
      "metadata": {
        "colab": {
          "base_uri": "https://localhost:8080/"
        },
        "id": "tIhoyMQbhBjt",
        "outputId": "6025ef86-7a34-41f0-95a9-b9d6e2384d7f"
      },
      "execution_count": null,
      "outputs": [
        {
          "output_type": "stream",
          "name": "stdout",
          "text": [
            "Looking in indexes: https://pypi.org/simple, https://us-python.pkg.dev/colab-wheels/public/simple/\n",
            "Collecting essentia\n",
            "  Downloading essentia-2.1b6.dev858-cp39-cp39-manylinux_2_17_x86_64.manylinux2014_x86_64.whl (13.7 MB)\n",
            "\u001b[2K     \u001b[90m━━━━━━━━━━━━━━━━━━━━━━━━━━━━━━━━━━━━━━━━\u001b[0m \u001b[32m13.7/13.7 MB\u001b[0m \u001b[31m18.5 MB/s\u001b[0m eta \u001b[36m0:00:00\u001b[0m\n",
            "\u001b[?25hRequirement already satisfied: six in /usr/local/lib/python3.9/dist-packages (from essentia) (1.15.0)\n",
            "Requirement already satisfied: pyyaml in /usr/local/lib/python3.9/dist-packages (from essentia) (6.0)\n",
            "Requirement already satisfied: numpy>=1.8.2 in /usr/local/lib/python3.9/dist-packages (from essentia) (1.22.4)\n",
            "Installing collected packages: essentia\n",
            "Successfully installed essentia-2.1b6.dev858\n"
          ]
        }
      ]
    },
    {
      "cell_type": "code",
      "source": [
        "import essentia.standard as estd\n",
        "from essentia.pytools.spectral import hpcpgram\n",
        "%matplotlib inline\n",
        "import matplotlib.pyplot as plt \n",
        "import pathlib\n",
        "from progressbar import ProgressBar\n",
        "import glob"
      ],
      "metadata": {
        "id": "yYo-IsTJgMmE"
      },
      "execution_count": null,
      "outputs": []
    },
    {
      "cell_type": "code",
      "source": [
        "def computeDistance(query_filename, ref_filename):\n",
        "\n",
        "\n",
        "  query_audio = estd.MonoLoader(filename=query_filename, sampleRate=32000)()\n",
        "  ref_audio = estd.MonoLoader(filename=ref_filename, sampleRate=32000)()\n",
        "\n",
        "  \n",
        "  query_hpcp = hpcpgram(query_audio, sampleRate=32000)\n",
        "  true_cover_hpcp = hpcpgram(ref_audio, sampleRate=32000)\n",
        "\n",
        "  cross_similarity = estd.ChromaCrossSimilarity(frameStackSize=9, frameStackStride=1, binarizePercentile=0.095, oti=True)\n",
        "  true_pair_sim_matrix = cross_similarity(query_hpcp, true_cover_hpcp)\n",
        "\n",
        "  score_matrix, distance = estd.CoverSongSimilarity(disOnset=0.5, disExtension=0.5, alignmentType='serra09', distanceType='asymmetric') (true_pair_sim_matrix)\n",
        "\n",
        "  #plt.figure(figsize=(50,50))\n",
        "  #plt.title('Cover song similarity distance: %s' % distance)\n",
        "  #plt.xlabel(query_filename)\n",
        "  #plt.ylabel(ref_filename)\n",
        "  #plt.imshow(score_matrix, origin='lower')\n",
        "\n",
        "  return distance\n"
      ],
      "metadata": {
        "id": "qaPGqBEWlVNr"
      },
      "execution_count": null,
      "outputs": []
    },
    {
      "cell_type": "markdown",
      "source": [
        "## Témoins"
      ],
      "metadata": {
        "id": "iobFaLbIHHf6"
      }
    },
    {
      "cell_type": "code",
      "source": [
        "ref_dir = pathlib.Path(\"references\")\n",
        "ref_filenames = glob.glob(str(ref_dir/'*.mp3*'))\n",
        "print('Number of files:', len(ref_filenames))"
      ],
      "metadata": {
        "colab": {
          "base_uri": "https://localhost:8080/"
        },
        "id": "XCPoGTmOA6x3",
        "outputId": "3b57a5cf-5ac7-43fa-b7e4-8490eed78a46"
      },
      "execution_count": null,
      "outputs": [
        {
          "output_type": "stream",
          "name": "stdout",
          "text": [
            "Number of files: 10\n"
          ]
        }
      ]
    },
    {
      "cell_type": "code",
      "source": [
        "jazz_dir = pathlib.Path(\"Jazz_test\")\n",
        "jazz_filenames = glob.glob(str(jazz_dir/'*.mp3'))\n",
        "print('Number of files:', len(jazz_filenames))"
      ],
      "metadata": {
        "colab": {
          "base_uri": "https://localhost:8080/"
        },
        "id": "_wuXlN-EBcmA",
        "outputId": "300a53f3-a3a9-44c3-80f7-b8dfc460b7af"
      },
      "execution_count": null,
      "outputs": [
        {
          "output_type": "stream",
          "name": "stdout",
          "text": [
            "Number of files: 3\n"
          ]
        }
      ]
    },
    {
      "cell_type": "code",
      "source": [
        "not_jazz_dir = pathlib.Path(\"not_Jazz_test\")\n",
        "not_jazz_filenames = glob.glob(str(not_jazz_dir/'*.mp3'))\n",
        "print('Number of files:', len(not_jazz_filenames))"
      ],
      "metadata": {
        "colab": {
          "base_uri": "https://localhost:8080/"
        },
        "id": "bCQ2QFHKC1iT",
        "outputId": "9a7ef80d-8938-43a1-c0af-23f185c5fc07"
      },
      "execution_count": null,
      "outputs": [
        {
          "output_type": "stream",
          "name": "stdout",
          "text": [
            "Number of files: 3\n"
          ]
        }
      ]
    },
    {
      "cell_type": "code",
      "source": [
        "jazz_sim = []\n",
        "not_jazz_sim = []\n",
        "\n",
        "for ref_file in ref_filenames:\n",
        "  print(ref_file)\n",
        "  pbar_jazz = ProgressBar()\n",
        "  for jazz_file in pbar_jazz(jazz_filenames):\n",
        "    jazz_sim.append(computeDistance(jazz_file, ref_file))\n",
        "  \n",
        "  pbar_not_jazz = ProgressBar()\n",
        "  for not_jazz_file in pbar_not_jazz(not_jazz_filenames):\n",
        "    not_jazz_sim.append(computeDistance(not_jazz_file, ref_file))\n",
        "  \n",
        "print(jazz_sim)\n",
        "print(not_jazz_sim)"
      ],
      "metadata": {
        "colab": {
          "base_uri": "https://localhost:8080/",
          "height": 872
        },
        "id": "fOoG2Eo7DC8R",
        "outputId": "4328b2d2-c78d-4c78-86b4-f7550d53c161"
      },
      "execution_count": null,
      "outputs": [
        {
          "output_type": "stream",
          "name": "stderr",
          "text": [
            "\r                                                                               \r\rN/A% (0 of 3) |                          | Elapsed Time: 0:00:00 ETA:  --:--:--"
          ]
        },
        {
          "output_type": "stream",
          "name": "stdout",
          "text": [
            "references/Frank Sinatra  Fly Me To The Moon Live At The Kiel Opera House St Louis MO1965.mp3\n"
          ]
        },
        {
          "output_type": "stream",
          "name": "stderr",
          "text": [
            "100% (3 of 3) |##########################| Elapsed Time: 0:00:36 Time:  0:00:36\n",
            "100% (3 of 3) |##########################| Elapsed Time: 0:00:36 Time:  0:00:36\n",
            "N/A% (0 of 3) |                          | Elapsed Time: 0:00:00 ETA:  --:--:--"
          ]
        },
        {
          "output_type": "stream",
          "name": "stdout",
          "text": [
            "references/Very_Early_(solo).mp3\n"
          ]
        },
        {
          "output_type": "stream",
          "name": "stderr",
          "text": [
            "100% (3 of 3) |##########################| Elapsed Time: 0:00:34 Time:  0:00:34\n",
            "100% (3 of 3) |##########################| Elapsed Time: 0:00:36 Time:  0:00:36\n",
            "N/A% (0 of 3) |                          | Elapsed Time: 0:00:00 ETA:  --:--:--"
          ]
        },
        {
          "output_type": "stream",
          "name": "stdout",
          "text": [
            "references/Moon_River.mp3\n"
          ]
        },
        {
          "output_type": "stream",
          "name": "stderr",
          "text": [
            "100% (3 of 3) |##########################| Elapsed Time: 0:00:33 Time:  0:00:33\n",
            "100% (3 of 3) |##########################| Elapsed Time: 0:00:35 Time:  0:00:35\n",
            "N/A% (0 of 3) |                          | Elapsed Time: 0:00:00 ETA:  --:--:--"
          ]
        },
        {
          "output_type": "stream",
          "name": "stdout",
          "text": [
            "references/A_Sleeping_Bee.mp3\n"
          ]
        },
        {
          "output_type": "stream",
          "name": "stderr",
          "text": [
            "100% (3 of 3) |##########################| Elapsed Time: 0:00:33 Time:  0:00:33\n",
            "100% (3 of 3) |##########################| Elapsed Time: 0:00:34 Time:  0:00:34\n",
            "N/A% (0 of 3) |                          | Elapsed Time: 0:00:00 ETA:  --:--:--"
          ]
        },
        {
          "output_type": "stream",
          "name": "stdout",
          "text": [
            "references/Misty Erroll Garner  Jazz Piano Sheet Music.mp3\n"
          ]
        },
        {
          "output_type": "stream",
          "name": "stderr",
          "text": [
            "100% (3 of 3) |##########################| Elapsed Time: 0:00:35 Time:  0:00:35\n",
            "100% (3 of 3) |##########################| Elapsed Time: 0:00:37 Time:  0:00:37\n",
            "N/A% (0 of 3) |                          | Elapsed Time: 0:00:00 ETA:  --:--:--"
          ]
        },
        {
          "output_type": "stream",
          "name": "stdout",
          "text": [
            "references/Wade_In_The_Water.mp3\n"
          ]
        },
        {
          "output_type": "stream",
          "name": "stderr",
          "text": [
            "100% (3 of 3) |##########################| Elapsed Time: 0:00:36 Time:  0:00:36\n",
            "100% (3 of 3) |##########################| Elapsed Time: 0:00:37 Time:  0:00:37\n",
            "N/A% (0 of 3) |                          | Elapsed Time: 0:00:00 ETA:  --:--:--"
          ]
        },
        {
          "output_type": "stream",
          "name": "stdout",
          "text": [
            "references/People_Will_Say_Were_In_Love.mp3\n"
          ]
        },
        {
          "output_type": "stream",
          "name": "stderr",
          "text": [
            "100% (3 of 3) |##########################| Elapsed Time: 0:00:38 Time:  0:00:38\n",
            "100% (3 of 3) |##########################| Elapsed Time: 0:00:39 Time:  0:00:39\n",
            "N/A% (0 of 3) |                          | Elapsed Time: 0:00:00 ETA:  --:--:--"
          ]
        },
        {
          "output_type": "stream",
          "name": "stdout",
          "text": [
            "references/Louis Armstrong  La Vie En Rose 1950 Digitally Remastered.mp3\n"
          ]
        },
        {
          "output_type": "stream",
          "name": "stderr",
          "text": [
            "100% (3 of 3) |##########################| Elapsed Time: 0:00:37 Time:  0:00:37\n",
            "100% (3 of 3) |##########################| Elapsed Time: 0:00:38 Time:  0:00:38\n",
            "N/A% (0 of 3) |                          | Elapsed Time: 0:00:00 ETA:  --:--:--"
          ]
        },
        {
          "output_type": "stream",
          "name": "stdout",
          "text": [
            "references/Louis Armstrong  What A Wonderful World.mp3\n"
          ]
        },
        {
          "output_type": "stream",
          "name": "stderr",
          "text": [
            "100% (3 of 3) |##########################| Elapsed Time: 0:00:35 Time:  0:00:35\n",
            "100% (3 of 3) |##########################| Elapsed Time: 0:00:36 Time:  0:00:36\n",
            "N/A% (0 of 3) |                          | Elapsed Time: 0:00:00 ETA:  --:--:--"
          ]
        },
        {
          "output_type": "stream",
          "name": "stdout",
          "text": [
            "references/Glenn Miller  In The Mood HQ.mp3\n"
          ]
        },
        {
          "output_type": "stream",
          "name": "stderr",
          "text": [
            "100% (3 of 3) |##########################| Elapsed Time: 0:00:38 Time:  0:00:38\n",
            "100% (3 of 3) |##########################| Elapsed Time: 0:00:37 Time:  0:00:37\n"
          ]
        },
        {
          "output_type": "stream",
          "name": "stdout",
          "text": [
            "[0.2336028516292572, 0.21065060794353485, 0.14529815316200256, 0.2336028516292572, 0.21065060794353485, 0.14529815316200256, 0.2336028516292572, 0.21065060794353485, 0.14529815316200256, 0.2336028516292572, 0.21065060794353485, 0.14529815316200256, 0.2336028516292572, 0.21065060794353485, 0.14529815316200256, 0.2336028516292572, 0.21065060794353485, 0.14529815316200256, 0.2336028516292572, 0.21065060794353485, 0.14529815316200256, 0.2336028516292572, 0.21065060794353485, 0.14529815316200256, 0.2336028516292572, 0.21065060794353485, 0.14529815316200256, 0.2336028516292572, 0.21065060794353485, 0.14529815316200256]\n",
            "[0.4872625172138214, 0.15920458734035492, 0.5159249901771545, 0.4872625172138214, 0.15920458734035492, 0.5159249901771545, 0.4872625172138214, 0.15920458734035492, 0.5159249901771545, 0.4872625172138214, 0.15920458734035492, 0.5159249901771545, 0.4872625172138214, 0.15920458734035492, 0.5159249901771545, 0.4872625172138214, 0.15920458734035492, 0.5159249901771545, 0.4872625172138214, 0.15920458734035492, 0.5159249901771545, 0.4872625172138214, 0.15920458734035492, 0.5159249901771545, 0.4872625172138214, 0.15920458734035492, 0.5159249901771545, 0.4872625172138214, 0.15920458734035492, 0.5159249901771545]\n"
          ]
        },
        {
          "output_type": "display_data",
          "data": {
            "text/plain": [
              "<Figure size 432x288 with 1 Axes>"
            ],
            "image/png": "[encoded data removed]"
          },
          "metadata": {
            "needs_background": "light"
          }
        }
      ]
    },
    {
      "cell_type": "code",
      "source": [
        "def moyenneSim(sims):\n",
        "  return sum(sims)/len(sims)"
      ],
      "metadata": {
        "id": "EJpcePN2D3fD"
      },
      "execution_count": null,
      "outputs": []
    },
    {
      "cell_type": "code",
      "source": [
        "print(\"Moyenne distance similarité Jazz/Jazz : \",moyenneSim(jazz_sim))\n",
        "print(\"Moyenne distance similarité NonJazz/Jazz : \",moyenneSim(not_jazz_sim))"
      ],
      "metadata": {
        "colab": {
          "base_uri": "https://localhost:8080/"
        },
        "id": "IB8pyxz7I4ki",
        "outputId": "cbeb045e-ae0a-477c-9ac4-7830650c54b8"
      },
      "execution_count": null,
      "outputs": [
        {
          "output_type": "stream",
          "name": "stdout",
          "text": [
            "Moyenne distance similarité Jazz/Jazz :  0.19651720424493155\n",
            "Moyenne distance similarité NonJazz/Jazz :  0.3874640315771103\n"
          ]
        }
      ]
    },
    {
      "cell_type": "markdown",
      "source": [
        "## Tester un morceau"
      ],
      "metadata": {
        "id": "IxmGimpTEpEe"
      }
    },
    {
      "cell_type": "code",
      "source": [
        "sim = []\n",
        "\n",
        "pbar = ProgressBar()\n",
        "\n",
        "query_file = #fichier à comparer\n",
        "\n",
        "for ref_file in pbar(ref_filenames):\n",
        "  sim.append(computeDistance(query_file, ref_file))\n",
        "\n",
        "print(\"Moyenne distance similarité Query/Jazz :\", moyenneSim(sim))"
      ],
      "metadata": {
        "id": "7EVmcYBhJQwe"
      },
      "execution_count": null,
      "outputs": []
    }
  ]
}